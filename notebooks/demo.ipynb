{
 "cells": [
  {
   "cell_type": "code",
   "execution_count": null,
   "metadata": {},
   "outputs": [],
   "source": [
    "# import the relevant classes\n",
    "from rad import Radar\n",
    "\n",
    "%load_ext autoreload\n",
    "%autoreload 2"
   ]
  },
  {
   "cell_type": "markdown",
   "metadata": {},
   "source": [
    "## Note on configuring for linux based devices\n",
    "1. to locate the serial ports, use the commnad: \"ls /dev/ttyACM*\" to find the serial ports\n",
    "2. if there is an error saying that access is denied, use the command \"sudo usermod -a -G dialout $USER\""
   ]
  },
  {
   "cell_type": "code",
   "execution_count": null,
   "metadata": {},
   "outputs": [],
   "source": [
    "#optional data file to process instead of streaming to the sensor\n",
    "data_file = \"raw_data_samples/raw_data_sample.dat\"\n",
    "\n",
    "#instantiate a new Radar class by supplying the required information\n",
    "radar = Radar(\n",
    "    config_file_name = \"1443config.cfg\",\n",
    "    translate_from_JSON = False,\n",
    "    enable_serial = True,\n",
    "    CLI_port = \"/dev/ttyACM2\",\n",
    "    Data_port = \"/dev/ttyACM3\",\n",
    "    enable_plotting = True,\n",
    "    jupyter = True,\n",
    "    data_file = data_file,\n",
    "    refresh_rate = 100.0,\n",
    "    verbose = False\n",
    ")\n",
    "\n",
    "#call the .stream() method to perform streaming\n",
    "radar.start()\n",
    "xyzvel = radar.read_serial()\n",
    "radar.stream()"
   ]
  },
  {
   "cell_type": "code",
   "execution_count": null,
   "metadata": {},
   "outputs": [],
   "source": [
    "xyzvel.shape"
   ]
  },
  {
   "cell_type": "code",
   "execution_count": null,
   "metadata": {},
   "outputs": [],
   "source": []
  }
 ],
 "metadata": {
  "kernelspec": {
   "display_name": "Python 3 (ipykernel)",
   "language": "python",
   "name": "python3"
  },
  "language_info": {
   "codemirror_mode": {
    "name": "ipython",
    "version": 3
   },
   "file_extension": ".py",
   "mimetype": "text/x-python",
   "name": "python",
   "nbconvert_exporter": "python",
   "pygments_lexer": "ipython3",
   "version": "3.10.6"
  },
  "vscode": {
   "interpreter": {
    "hash": "e34a3fdfcf3630a80e000f94537b2fb6cfa81418d2199451c8a97cfcbd5f3443"
   }
  }
 },
 "nbformat": 4,
 "nbformat_minor": 2
}
